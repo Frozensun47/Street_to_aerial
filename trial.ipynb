{
 "cells": [
  {
   "cell_type": "code",
   "execution_count": 1,
   "metadata": {},
   "outputs": [
    {
     "data": {
      "application/vnd.jupyter.widget-view+json": {
       "model_id": "b519d9b776b648df864f56433b78a02e",
       "version_major": 2,
       "version_minor": 0
      },
      "text/plain": [
       "preprocessor_config.json:   0%|          | 0.00/401 [00:00<?, ?B/s]"
      ]
     },
     "metadata": {},
     "output_type": "display_data"
    },
    {
     "data": {
      "application/vnd.jupyter.widget-view+json": {
       "model_id": "d0907addbdcf4b40b835f2db5289552b",
       "version_major": 2,
       "version_minor": 0
      },
      "text/plain": [
       "config.json:   0%|          | 0.00/6.60k [00:00<?, ?B/s]"
      ]
     },
     "metadata": {},
     "output_type": "display_data"
    },
    {
     "data": {
      "application/vnd.jupyter.widget-view+json": {
       "model_id": "87294cc4557e4c3a9203c87058b4c386",
       "version_major": 2,
       "version_minor": 0
      },
      "text/plain": [
       "pytorch_model.bin:   0%|          | 0.00/167M [00:00<?, ?B/s]"
      ]
     },
     "metadata": {},
     "output_type": "display_data"
    },
    {
     "name": "stdout",
     "output_type": "stream",
     "text": [
      "Detected remote with confidence 0.998 at location [40.16, 70.81, 175.55, 117.98]\n",
      "Detected remote with confidence 0.996 at location [333.24, 72.55, 368.33, 187.66]\n",
      "Detected couch with confidence 0.995 at location [-0.02, 1.15, 639.73, 473.76]\n",
      "Detected cat with confidence 0.999 at location [13.24, 52.05, 314.02, 470.93]\n",
      "Detected cat with confidence 0.999 at location [345.4, 23.85, 640.37, 368.72]\n"
     ]
    }
   ],
   "source": []
  },
  {
   "cell_type": "code",
   "execution_count": 4,
   "metadata": {},
   "outputs": [
    {
     "data": {
      "text/plain": [
       "DetrObjectDetectionOutput(loss=None, loss_dict=None, logits=tensor([[[-19.1194,  -0.0893, -11.0154,  ...,  -8.7117,  -9.8543,  10.6531],\n",
       "         [-17.3640,  -1.8035, -14.0219,  ...,  -8.2177,  -4.1631,  11.4021],\n",
       "         [-20.0461,  -0.5837, -11.1060,  ...,  -9.2851, -12.1836,  11.1371],\n",
       "         ...,\n",
       "         [-19.7237,  -1.3058, -10.1437,  ..., -10.4849, -12.9238,  11.2945],\n",
       "         [-12.8113,   1.9661,  -5.0197,  ...,  -6.7028,  -7.3127,   6.2644],\n",
       "         [-17.3271,  -0.8608, -13.1640,  ...,  -6.6456,  -3.8822,  10.6797]]],\n",
       "       grad_fn=<ViewBackward0>), pred_boxes=tensor([[[0.4433, 0.5302, 0.8853, 0.9056],\n",
       "         [0.5494, 0.2517, 0.0529, 0.2015],\n",
       "         [0.4998, 0.5360, 0.9956, 0.9024],\n",
       "         [0.5534, 0.1835, 0.0415, 0.0616],\n",
       "         [0.4998, 0.4116, 0.9948, 0.8237],\n",
       "         [0.5957, 0.5033, 0.8091, 0.9647],\n",
       "         [0.5416, 0.2791, 0.0393, 0.2099],\n",
       "         [0.1607, 0.2160, 0.2274, 0.1434],\n",
       "         [0.1738, 0.1822, 0.1956, 0.0785],\n",
       "         [0.4997, 0.3887, 0.9994, 0.7828],\n",
       "         [0.6100, 0.5136, 0.7813, 0.9454],\n",
       "         [0.4998, 0.5484, 0.9999, 0.8796],\n",
       "         [0.7717, 0.4983, 0.4555, 0.8899],\n",
       "         [0.8818, 0.6115, 0.2329, 0.7410],\n",
       "         [0.5730, 0.5916, 0.8472, 0.7972],\n",
       "         [0.1542, 0.1895, 0.2465, 0.1191],\n",
       "         [0.1416, 0.1758, 0.2823, 0.1619],\n",
       "         [0.7558, 0.4970, 0.4818, 0.9796],\n",
       "         [0.7421, 0.5181, 0.5235, 0.9266],\n",
       "         [0.4997, 0.3921, 0.9994, 0.7880],\n",
       "         [0.6063, 0.5336, 0.7868, 0.9010],\n",
       "         [0.7650, 0.4147, 0.4705, 0.7395],\n",
       "         [0.4997, 0.4985, 1.0000, 0.9790],\n",
       "         [0.5650, 0.6075, 0.8686, 0.7601],\n",
       "         [0.6828, 0.2782, 0.3232, 0.2933],\n",
       "         [0.6098, 0.5066, 0.7824, 0.9440],\n",
       "         [0.7731, 0.4961, 0.4492, 0.9718],\n",
       "         [0.2537, 0.4403, 0.4802, 0.6666],\n",
       "         [0.5547, 0.1967, 0.0447, 0.0872],\n",
       "         [0.4996, 0.4033, 0.9987, 0.8069],\n",
       "         [0.4997, 0.4990, 1.0000, 0.9773],\n",
       "         [0.6281, 0.4141, 0.7423, 0.5757],\n",
       "         [0.4999, 0.6087, 0.9986, 0.7607],\n",
       "         [0.8822, 0.5112, 0.2332, 0.8162],\n",
       "         [0.4997, 0.4153, 0.9999, 0.8347],\n",
       "         [0.5430, 0.2625, 0.0440, 0.2193],\n",
       "         [0.7741, 0.5125, 0.4469, 0.9436],\n",
       "         [0.1685, 0.1967, 0.2115, 0.0983],\n",
       "         [0.3901, 0.4589, 0.3464, 0.5897],\n",
       "         [0.7398, 0.5121, 0.5329, 0.9603],\n",
       "         [0.6089, 0.4963, 0.7787, 0.9830],\n",
       "         [0.5095, 0.4965, 0.9523, 0.9820],\n",
       "         [0.5487, 0.3069, 0.0748, 0.3185],\n",
       "         [0.3322, 0.5440, 0.6561, 0.8807],\n",
       "         [0.1550, 0.1908, 0.2106, 0.0976],\n",
       "         [0.2595, 0.4356, 0.4636, 0.6565],\n",
       "         [0.7412, 0.4389, 0.5226, 0.8286],\n",
       "         [0.5476, 0.3786, 0.0675, 0.4700],\n",
       "         [0.4997, 0.4810, 1.0000, 0.9573],\n",
       "         [0.1884, 0.1911, 0.2761, 0.1068],\n",
       "         [0.4097, 0.4953, 0.8105, 0.9753],\n",
       "         [0.7669, 0.4043, 0.4680, 0.7251],\n",
       "         [0.4999, 0.5972, 0.9970, 0.7880],\n",
       "         [0.2933, 0.5559, 0.5596, 0.8529],\n",
       "         [0.1457, 0.3002, 0.2913, 0.3258],\n",
       "         [0.2969, 0.5452, 0.5898, 0.8838],\n",
       "         [0.1509, 0.1904, 0.1784, 0.0790],\n",
       "         [0.5481, 0.2711, 0.0548, 0.2398],\n",
       "         [0.5494, 0.3011, 0.0660, 0.3074],\n",
       "         [0.4998, 0.4947, 0.9996, 0.9846],\n",
       "         [0.3040, 0.1949, 0.5259, 0.1344],\n",
       "         [0.2557, 0.5448, 0.4700, 0.8727],\n",
       "         [0.9344, 0.1359, 0.1282, 0.0868],\n",
       "         [0.1654, 0.1874, 0.2133, 0.0958],\n",
       "         [0.4998, 0.1010, 0.9981, 0.2064],\n",
       "         [0.2878, 0.5460, 0.5706, 0.8811],\n",
       "         [0.4997, 0.3847, 0.9996, 0.7739],\n",
       "         [0.2527, 0.4495, 0.4723, 0.6744],\n",
       "         [0.1727, 0.1848, 0.1953, 0.0815],\n",
       "         [0.4997, 0.4753, 1.0000, 0.7531],\n",
       "         [0.9401, 0.1480, 0.1176, 0.0632],\n",
       "         [0.5073, 0.5145, 0.9768, 0.9409],\n",
       "         [0.4997, 0.4965, 0.9999, 0.9871],\n",
       "         [0.7288, 0.4205, 0.4430, 0.5660],\n",
       "         [0.6028, 0.5872, 0.7923, 0.7956],\n",
       "         [0.7613, 0.4073, 0.4809, 0.7265],\n",
       "         [0.1630, 0.1976, 0.2197, 0.1083],\n",
       "         [0.4999, 0.6061, 0.9997, 0.7669],\n",
       "         [0.3146, 0.3104, 0.5253, 0.3478],\n",
       "         [0.1521, 0.1904, 0.1936, 0.0920],\n",
       "         [0.8777, 0.5451, 0.2415, 0.8726],\n",
       "         [0.5187, 0.3369, 0.1179, 0.3863],\n",
       "         [0.4999, 0.5327, 0.9998, 0.9063],\n",
       "         [0.4997, 0.3842, 0.9983, 0.7752],\n",
       "         [0.1657, 0.1870, 0.2128, 0.0883],\n",
       "         [0.6087, 0.5146, 0.7825, 0.9435],\n",
       "         [0.8833, 0.5573, 0.2292, 0.8481],\n",
       "         [0.6118, 0.4981, 0.7784, 0.9733],\n",
       "         [0.4999, 0.5956, 0.9997, 0.7883],\n",
       "         [0.5483, 0.3160, 0.0626, 0.3387],\n",
       "         [0.5442, 0.3479, 0.0818, 0.4120],\n",
       "         [0.7640, 0.4087, 0.4730, 0.7331],\n",
       "         [0.5987, 0.4591, 0.8033, 0.8302],\n",
       "         [0.5522, 0.2486, 0.0548, 0.1938],\n",
       "         [0.5495, 0.2864, 0.0529, 0.2583],\n",
       "         [0.5558, 0.5067, 0.8791, 0.9647],\n",
       "         [0.1610, 0.1845, 0.1937, 0.0783],\n",
       "         [0.4997, 0.3726, 0.9978, 0.7490],\n",
       "         [0.7701, 0.4089, 0.4609, 0.7185],\n",
       "         [0.5504, 0.2723, 0.0637, 0.2427]]], grad_fn=<SigmoidBackward0>), auxiliary_outputs=None, last_hidden_state=tensor([[[ 6.1598e-02, -5.1461e-01, -4.0323e-01,  ..., -6.8609e-01,\n",
       "           2.4458e+00,  1.1229e-01],\n",
       "         [-7.6286e-01, -4.9343e-01, -1.7153e+00,  ..., -2.6337e-01,\n",
       "           3.2548e+00,  6.1374e-01],\n",
       "         [-4.7675e-01, -6.4030e-01, -7.8257e-01,  ..., -1.2225e+00,\n",
       "           2.6471e+00, -1.6321e-04],\n",
       "         ...,\n",
       "         [-4.5716e-01, -9.5351e-01, -5.3540e-01,  ..., -4.4069e-01,\n",
       "           2.2883e+00, -3.9115e-02],\n",
       "         [-5.3162e-01, -1.8551e+00, -1.4860e+00,  ...,  2.8945e-01,\n",
       "           2.2507e+00,  7.3355e-01],\n",
       "         [-9.1941e-01, -1.9130e-02, -1.5155e+00,  ..., -3.7177e-01,\n",
       "           3.2195e+00,  5.1125e-01]]], grad_fn=<NativeLayerNormBackward0>), decoder_hidden_states=None, decoder_attentions=None, cross_attentions=None, encoder_last_hidden_state=tensor([[[-0.0544, -0.0425, -0.0307,  ...,  0.1406, -0.3174, -0.0056],\n",
       "         [ 0.0010, -0.0460, -0.0012,  ...,  0.5143, -0.5329,  0.3865],\n",
       "         [-0.0269, -0.0325, -0.0122,  ...,  0.4759, -0.6520,  0.0302],\n",
       "         ...,\n",
       "         [ 0.0641, -0.0229,  0.0221,  ..., -0.4355,  0.1633, -0.0904],\n",
       "         [ 0.0668, -0.0405,  0.0257,  ..., -0.3035,  0.0219, -0.0150],\n",
       "         [-0.0075, -0.0113,  0.0073,  ..., -0.4467,  0.0683, -0.1685]]],\n",
       "       grad_fn=<NativeLayerNormBackward0>), encoder_hidden_states=None, encoder_attentions=None)"
      ]
     },
     "execution_count": 4,
     "metadata": {},
     "output_type": "execute_result"
    }
   ],
   "source": [
    "outputs"
   ]
  },
  {
   "cell_type": "code",
   "execution_count": 10,
   "metadata": {},
   "outputs": [
    {
     "name": "stdout",
     "output_type": "stream",
     "text": [
      "Detected remote with confidence 0.998 at location [40.16, 70.81, 175.55, 117.98]\n",
      "Detected remote with confidence 0.996 at location [333.24, 72.55, 368.33, 187.66]\n",
      "Detected couch with confidence 0.995 at location [-0.02, 1.15, 639.73, 473.76]\n",
      "Detected cat with confidence 0.999 at location [13.24, 52.05, 314.02, 470.93]\n",
      "Detected cat with confidence 0.999 at location [345.4, 23.85, 640.37, 368.72]\n"
     ]
    }
   ],
   "source": [
    "\n",
    "from transformers import DetrImageProcessor, DetrForObjectDetection\n",
    "import torch\n",
    "from PIL import Image\n",
    "import requests\n",
    "\n",
    "url = \"http://images.cocodataset.org/val2017/000000039769.jpg\"\n",
    "image = Image.open(requests.get(url, stream=True).raw)\n",
    "\n",
    "# you can specify the revision tag if you don't want the timm dependency\n",
    "processor = DetrImageProcessor.from_pretrained(\"facebook/detr-resnet-50\", revision=\"no_timm\")\n",
    "model = DetrForObjectDetection.from_pretrained(\"facebook/detr-resnet-50\", revision=\"no_timm\")\n",
    "\n",
    "inputs = processor(images=image, return_tensors=\"pt\")\n",
    "outputs = model(**inputs)\n",
    "\n",
    "# convert outputs (bounding boxes and class logits) to COCO API\n",
    "# let's only keep detections with score > 0.9\n",
    "target_sizes = torch.tensor([image.size[::-1]])\n",
    "\n",
    "\n",
    "results = processor.post_process_object_detection(outputs, target_sizes=target_sizes, threshold=0.1)[0]\n",
    "\n",
    "for score, label, box in zip(results[\"scores\"], results[\"labels\"], results[\"boxes\"]):\n",
    "    box = [round(i, 2) for i in box.tolist()]\n",
    "    print(\n",
    "            f\"Detected {model.config.id2label[label.item()]} with confidence \"\n",
    "            f\"{round(score.item(), 3)} at location {box}\"\n",
    "    )"
   ]
  },
  {
   "cell_type": "code",
   "execution_count": null,
   "metadata": {},
   "outputs": [],
   "source": []
  }
 ],
 "metadata": {
  "kernelspec": {
   "display_name": "flask",
   "language": "python",
   "name": "python3"
  },
  "language_info": {
   "codemirror_mode": {
    "name": "ipython",
    "version": 3
   },
   "file_extension": ".py",
   "mimetype": "text/x-python",
   "name": "python",
   "nbconvert_exporter": "python",
   "pygments_lexer": "ipython3",
   "version": "3.9.18"
  }
 },
 "nbformat": 4,
 "nbformat_minor": 2
}
